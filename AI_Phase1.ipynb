{
  "nbformat": 4,
  "nbformat_minor": 0,
  "metadata": {
    "colab": {
      "provenance": []
    },
    "kernelspec": {
      "name": "python3",
      "display_name": "Python 3"
    },
    "language_info": {
      "name": "python"
    }
  },
  "cells": [
    {
      "cell_type": "code",
      "source": [
        "# Import necessary libraries\n",
        "import pandas as pd\n",
        "import numpy as np\n",
        "from sklearn.model_selection import train_test_split\n",
        "from sklearn.feature_extraction.text import CountVectorizer\n",
        "from sklearn.naive_bayes import MultinomialNB\n",
        "from sklearn.metrics import accuracy_score, classification_report\n",
        "\n",
        "# Load the Twitter US Airline Sentiment dataset\n",
        "data = pd.read_csv('/content/Tweets.csv')\n",
        "\n",
        "# Select relevant columns\n",
        "data = data[['text', 'airline_sentiment']]  # Using 'text' for feedback and 'airline_sentiment' for sentiment\n",
        "\n",
        "# Data preprocessing (if needed)\n",
        "# You may need to customize this part to suit your specific preprocessing needs\n",
        "\n",
        "# Split the data into training and testing sets\n",
        "X_train, X_test, y_train, y_test = train_test_split(data['text'], data['airline_sentiment'], test_size=0.2, random_state=42)\n",
        "\n",
        "# Vectorize the text data\n",
        "vectorizer = CountVectorizer(max_features=5000)\n",
        "X_train = vectorizer.fit_transform(X_train)\n",
        "X_test = vectorizer.transform(X_test)\n",
        "\n",
        "# Train a sentiment classifier (e.g., Naive Bayes) on the training data\n",
        "clf = MultinomialNB()\n",
        "clf.fit(X_train, y_train)\n",
        "\n",
        "# Make predictions on the test set\n",
        "y_pred = clf.predict(X_test)\n",
        "\n",
        "# Evaluate the model\n",
        "accuracy = accuracy_score(y_test, y_pred)\n",
        "print(f'Accuracy: {accuracy:.2f}')\n",
        "\n",
        "# Display classification report\n",
        "print(classification_report(y_test, y_pred))\n"
      ],
      "metadata": {
        "colab": {
          "base_uri": "https://localhost:8080/"
        },
        "id": "jPn1BNu4lVjY",
        "outputId": "0a17b60d-e8fc-4366-83fe-cd999235a43e"
      },
      "execution_count": 9,
      "outputs": [
        {
          "output_type": "stream",
          "name": "stdout",
          "text": [
            "Accuracy: 0.79\n",
            "              precision    recall  f1-score   support\n",
            "\n",
            "    negative       0.84      0.91      0.87      1889\n",
            "     neutral       0.63      0.52      0.57       580\n",
            "    positive       0.76      0.66      0.70       459\n",
            "\n",
            "    accuracy                           0.79      2928\n",
            "   macro avg       0.74      0.69      0.71      2928\n",
            "weighted avg       0.78      0.79      0.79      2928\n",
            "\n"
          ]
        }
      ]
    },
    {
      "cell_type": "code",
      "source": [],
      "metadata": {
        "id": "qWdGXZ_5jhnT"
      },
      "execution_count": null,
      "outputs": []
    }
  ]
}